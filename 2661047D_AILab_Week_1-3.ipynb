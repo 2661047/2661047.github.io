{
 "cells": [
  {
   "cell_type": "markdown",
   "id": "9f17ffae",
   "metadata": {},
   "source": [
    " <h1><u>Week 1:  Getting started with Anaconda, Jupyter Notebook and Python</u></h1>\n",
    "\n",
    "#### Why you chose to join this course – for, motivation, vision, aspiration?\n",
    "<li><p>One reason I chose to study Artificial Intelligence was my genuine interest in its influence across the world, and the impact it has in everyones lives on a daily basis. This encouraged me to persue AI so I too could contribute to the world, helping others and getting a career related to AI.</p></li>\n",
    "\n",
    "#### Prior experience, if any, you have with AI and/or Python\n",
    "<li><p>I had once tried to teach myself to use Python to create games - however I didn't persue a great deal and only have a foundational understanding.</p></li>\n",
    "<li><p>I have no prior experience with creating AI, however I do have an understanding of its uses and use it daily from operating my phone through to travelling in a car.</p></li>\n",
    "\n",
    "#### What you expect to learn from the course?\n",
    "<li><p>An introduction in how to code AI so that it is realistic for me to persue.</p></li>\n",
    "<li><p>The history of AI and what makes AI, this understanding can then become applicable to modern day code.</p></li>\n",
    "<li><p>Better my writing abilities and improve how I write about code in essays and referencing Figures.</p></li>\n",
    "<li><p>To be able to create my own programs that I can apply to daily life or help me work or research in the future.</p></li>\n",
    "<li><p>A better understanding of Python to apply to a variety of fields to improve my employability.</p></li>"
   ]
  },
  {
   "cell_type": "code",
   "execution_count": null,
   "id": "574dfe4a",
   "metadata": {},
   "outputs": [],
   "source": [
    "print(\"Hello, World!\")"
   ]
  },
  {
   "cell_type": "code",
   "execution_count": null,
   "id": "3c25dc23",
   "metadata": {},
   "outputs": [],
   "source": [
    "message=\"Hello, World!\"\n",
    "\n",
    "print(message)"
   ]
  },
  {
   "cell_type": "code",
   "execution_count": null,
   "id": "a99040f2",
   "metadata": {},
   "outputs": [],
   "source": [
    "message=\"How are you doing?\"\n",
    "print(message)"
   ]
  },
  {
   "cell_type": "code",
   "execution_count": null,
   "id": "1942e71c",
   "metadata": {},
   "outputs": [],
   "source": [
    "message=\"Hello, World!\"\n",
    "print(message+message)"
   ]
  },
  {
   "cell_type": "code",
   "execution_count": null,
   "id": "6d2584e8",
   "metadata": {},
   "outputs": [],
   "source": [
    "message=\"Hello, World!\"\n",
    "print(message*3)"
   ]
  },
  {
   "cell_type": "code",
   "execution_count": null,
   "id": "9d2a084f",
   "metadata": {},
   "outputs": [],
   "source": [
    "message=\"Hello, World!\"\n",
    "print(message[0])"
   ]
  },
  {
   "cell_type": "code",
   "execution_count": null,
   "id": "74bf03df",
   "metadata": {},
   "outputs": [],
   "source": [
    "message=\"Hello, World!\"\n",
    "print(message[12])"
   ]
  },
  {
   "cell_type": "code",
   "execution_count": null,
   "id": "80429663",
   "metadata": {},
   "outputs": [],
   "source": [
    "greeting=\"Hello, World!\"\n",
    "print(greeting)"
   ]
  },
  {
   "cell_type": "code",
   "execution_count": null,
   "id": "d2bf9fda",
   "metadata": {
    "tags": []
   },
   "outputs": [],
   "source": [
    "from IPython.display import*\n",
    "YouTubeVideo(\"9UW6jnkiRQE\")\n",
    "#A video of a tour of the University of Glasgows Campus"
   ]
  },
  {
   "cell_type": "code",
   "execution_count": null,
   "id": "c89e7baf",
   "metadata": {
    "tags": []
   },
   "outputs": [],
   "source": [
    "from IPython.display import Image\n",
    "Image(url=\"https://thumbs.dreamstime.com/b/university-glasgow-main-building-scotland-56041794.jpg\", width=200, height=200)\n",
    "#A stock photo from the internet of the University of Glasgow."
   ]
  },
  {
   "cell_type": "code",
   "execution_count": null,
   "id": "ded9aeb1-99d8-491b-ac99-4dab344ad04e",
   "metadata": {},
   "outputs": [],
   "source": [
    "#Code to display a website in your browser from a period requested by the user.\n",
    "#A variable can be shown by using a =\n",
    "#A string can be shown with \"\" or ''\n",
    "#A string can be assigned to a variable - This is seen in the second line of code.\n",
    "\n",
    "import webbrowser #This is importing a library.\n",
    "import requests #This is importing a library.\n",
    "\n",
    "print(\"Shall we hunt down an old website?\") #This prints an initial comment of direction to the user.\n",
    "site = input(\"Type a website URL: \") #This prints a comment, informing the user to insert a URL. This is also a variable.\n",
    "era = input(\"Type year, month, and date, e.g., 20150613: \") #This prints a comment, informing the user to insert a date. This is also a variable.\n",
    "url = \"http://archive.org/wayback/available?url=%s&timestamp=%s\" % (site, era) #This is a variable.\n",
    "response = requests.get(url) #This is a variable.\n",
    "data = response.json() #This is a variable.\n",
    "try:\n",
    "    old_site = data[\"archived_snapshots\"][\"closest\"][\"url\"] #This is a variable.\n",
    "    print(\"Found this copy: \", old_site) #This prints a comment, informing the user of the URL found to display the webpage.\n",
    "    print(\"It should appear in your browser.\") #This prints a comment, informing the user of where to find the image.\n",
    "    webbrowser.open(old_site)\n",
    "except:\n",
    "    print(\"Sorry, could not find the site.\") #This prints a comment if a site is unable to be found."
   ]
  },
  {
   "cell_type": "markdown",
   "id": "f72d7ae3",
   "metadata": {},
   "source": [
    "<hr>"
   ]
  },
  {
   "cell_type": "markdown",
   "id": "0588e293",
   "metadata": {},
   "source": [
    "<h2><u>Week 2. Exploring Data in Multiple Ways</u></h2>"
   ]
  },
  {
   "cell_type": "code",
   "execution_count": null,
   "id": "e12ea5d8",
   "metadata": {},
   "outputs": [],
   "source": [
    "from IPython.display import Image"
   ]
  },
  {
   "cell_type": "code",
   "execution_count": null,
   "id": "5932ef9f",
   "metadata": {},
   "outputs": [],
   "source": [
    "#Importing an image using IPython.display.\n",
    "Image (\"picture1.jpg\")"
   ]
  },
  {
   "cell_type": "code",
   "execution_count": null,
   "id": "abc3183e",
   "metadata": {},
   "outputs": [],
   "source": [
    "#Importing audio using IPython.display.\n",
    "from IPython.display import Audio"
   ]
  },
  {
   "cell_type": "code",
   "execution_count": null,
   "id": "75d0afd6",
   "metadata": {},
   "outputs": [],
   "source": [
    "Audio(\"audio1.mid\")"
   ]
  },
  {
   "cell_type": "code",
   "execution_count": null,
   "id": "2b94a190",
   "metadata": {},
   "outputs": [],
   "source": [
    "from IPython.display import Audio"
   ]
  },
  {
   "cell_type": "code",
   "execution_count": null,
   "id": "858e6ec2",
   "metadata": {},
   "outputs": [],
   "source": [
    "#This audio belongs to and is licensed by Artoffuge Mehmet Okonsar. This can be found at \"https://en.wikipedia.org/wiki/File:GoldbergVariations_MehmetOkonsar-1of3_Var1to10.ogg\"\n",
    "Audio(\"audio2.ogg\")"
   ]
  },
  {
   "cell_type": "markdown",
   "id": "e3c2a69f",
   "metadata": {},
   "source": [
    "<p>Above, I have imported Images and Audio using IPython.display. I managed to successfuly insert the image of a hedghog. However, in my attempt to insert audio, I have successfully got the software to display audio outputs - though it fails to play any audible audio. In my attempt to resolve this I will use \"https://ipython.readthedocs.io/en/stable/api/generated/IPython.display.html\" and further consult with my peers and teacher.</p>\n",
    "<p>After review, the audio1.mid is unable to play audio - this is because the file is stored as a midi file, which means that it is unable to store and play audio. The second, audio2.ogg is able to play sound imported from IPython.display - however, as I am using Safari on a mac this software is unable to play audio as a .ogg file.</p>"
   ]
  },
  {
   "cell_type": "markdown",
   "id": "c409bd1e",
   "metadata": {},
   "source": [
    "<hr>"
   ]
  },
  {
   "cell_type": "markdown",
   "id": "9dafc0e9",
   "metadata": {},
   "source": [
    "<h3><u>Using matplotlib</u></h3>"
   ]
  },
  {
   "cell_type": "code",
   "execution_count": null,
   "id": "7efea3f8",
   "metadata": {},
   "outputs": [],
   "source": [
    "#To present the numerical data as a numpy array.\n",
    "from matplotlib import pyplot\n",
    "test_picture = pyplot.imread(\"picture1.jpg\")\n",
    "print(\"Numpy array of the image is: \", test_picture)\n",
    "pyplot.imshow(test_picture)"
   ]
  },
  {
   "cell_type": "code",
   "execution_count": null,
   "id": "1d4c0916",
   "metadata": {},
   "outputs": [],
   "source": [
    "#To change the values in the previous numpy array.\n",
    "test_picture_filtered = 2*test_picture/3\n",
    "pyplot.imshow(test_picture_filtered)"
   ]
  },
  {
   "cell_type": "markdown",
   "id": "449573d3",
   "metadata": {},
   "source": [
    "<p>Above is numerical data displayed as a numpy array, this numerical data represents the image that also can be seen. The image directly above, that appears to be colourful dots, is the same image of the hedgehog as seen in the previous part - however, the values in the array have been doubled and then divided by three. In return, the image displayed has been altered to show only certain aspects of the hedgehog with different colours.</p>"
   ]
  },
  {
   "cell_type": "markdown",
   "id": "77a7ad93",
   "metadata": {},
   "source": [
    "<hr>"
   ]
  },
  {
   "cell_type": "markdown",
   "id": "252df25e",
   "metadata": {},
   "source": [
    "<h3><u>Scikt-learn (sklearn)</u></h3>"
   ]
  },
  {
   "cell_type": "code",
   "execution_count": null,
   "id": "273aea67",
   "metadata": {},
   "outputs": [],
   "source": [
    "from sklearn import datasets"
   ]
  },
  {
   "cell_type": "code",
   "execution_count": null,
   "id": "30be3782",
   "metadata": {},
   "outputs": [],
   "source": [
    "#To show the datasets imported from sklearn.\n",
    "dir(datasets)"
   ]
  },
  {
   "cell_type": "markdown",
   "id": "9683f297",
   "metadata": {},
   "source": [
    "<p>'load_sample_images', 'load_iris', 'load_wine' are some datasets I have chosen from the dataset above to be investigated later. I have chosen these as I am interested in seeing what these datasets contain.</p>"
   ]
  },
  {
   "cell_type": "code",
   "execution_count": null,
   "id": "8cf69fb1",
   "metadata": {},
   "outputs": [],
   "source": [
    "#To present different datasets from sklearn.\n",
    "sample_images_data = datasets.load_sample_images()\n",
    "iris_data = datasets.load_iris()\n",
    "wine_data = datasets.load_wine()\n",
    "print(sample_images_data.DESCR)\n",
    "print(iris_data.DESCR)\n",
    "print(wine_data.DESCR)"
   ]
  },
  {
   "cell_type": "code",
   "execution_count": null,
   "id": "cf5da835",
   "metadata": {},
   "outputs": [],
   "source": [
    "#To present the attributes of the Iris dataset and show the features.\n",
    "iris_data.feature_names"
   ]
  },
  {
   "cell_type": "code",
   "execution_count": null,
   "id": "26149b3a",
   "metadata": {},
   "outputs": [],
   "source": [
    "#To present the attributes of the Wine dataset and show the features.\n",
    "wine_data.feature_names"
   ]
  },
  {
   "cell_type": "code",
   "execution_count": null,
   "id": "fc161b5f",
   "metadata": {},
   "outputs": [],
   "source": [
    "#This command tells the program to bring the \"target names\" from the data set using the variable created and print them for the user.\n",
    "wine_data.target_names"
   ]
  },
  {
   "cell_type": "code",
   "execution_count": null,
   "id": "53867daf",
   "metadata": {},
   "outputs": [],
   "source": [
    "#This is the same command as the previous, however it is for a different variable.\n",
    "iris_data.target_names"
   ]
  },
  {
   "cell_type": "code",
   "execution_count": null,
   "id": "6cce5f3c",
   "metadata": {},
   "outputs": [],
   "source": [
    "#In this code 'wine_data' and 'iris_data' are being imported from sklearn and converted into pandas dataframe which has been called 'wine_dataframe' and 'iris_dataframe'.\n",
    "from sklearn import datasets\n",
    "import pandas\n",
    "\n",
    "wine_data = datasets.load_wine()\n",
    "\n",
    "wine_dataframe = pandas.DataFrame(data=wine_data['data'], columns = wine_data['feature_names'])\n",
    "\n",
    "iris_data = datasets.load_iris()\n",
    "\n",
    "iris_dataframe = pandas.DataFrame(data=iris_data['data'], columns = iris_data['feature_names'])"
   ]
  },
  {
   "cell_type": "code",
   "execution_count": null,
   "id": "ee4bd70c",
   "metadata": {},
   "outputs": [],
   "source": [
    "wine_dataframe.head()\n",
    "wine_dataframe.describe()"
   ]
  },
  {
   "cell_type": "code",
   "execution_count": null,
   "id": "e7b35bf4",
   "metadata": {},
   "outputs": [],
   "source": [
    "iris_dataframe.head()\n",
    "iris_dataframe.describe()"
   ]
  },
  {
   "cell_type": "markdown",
   "id": "631e0b85",
   "metadata": {},
   "source": [
    "<p>The code above uses panda to retrieve the imported data from sklearn and transfers it into more detailed information that is easier to read. The data above is seen in the datasets that were printed earlier - however, it is put into a chart and is displayed beyond two decimal places. </p>"
   ]
  },
  {
   "cell_type": "code",
   "execution_count": null,
   "id": "780f0c82",
   "metadata": {},
   "outputs": [],
   "source": []
  }
 ],
 "metadata": {
  "kernelspec": {
   "display_name": "Python 3 (ipykernel)",
   "language": "python",
   "name": "python3"
  },
  "language_info": {
   "codemirror_mode": {
    "name": "ipython",
    "version": 3
   },
   "file_extension": ".py",
   "mimetype": "text/x-python",
   "name": "python",
   "nbconvert_exporter": "python",
   "pygments_lexer": "ipython3",
   "version": "3.11.4"
  }
 },
 "nbformat": 4,
 "nbformat_minor": 5
}
